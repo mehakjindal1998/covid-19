{
  "nbformat": 4,
  "nbformat_minor": 0,
  "metadata": {
    "colab": {
      "name": "GAN.ipynb",
      "provenance": [],
      "collapsed_sections": [],
      "mount_file_id": "18y2TpjN0CbWN-iKQXuMJp1mQXTwAYkYg",
      "authorship_tag": "ABX9TyNz454WcMGJ8Hz1vjYKOIV5",
      "include_colab_link": true
    },
    "kernelspec": {
      "name": "python3",
      "display_name": "Python 3"
    },
    "language_info": {
      "name": "python"
    }
  },
  "cells": [
    {
      "cell_type": "markdown",
      "metadata": {
        "id": "view-in-github",
        "colab_type": "text"
      },
      "source": [
        "<a href=\"https://colab.research.google.com/github/mehakjindal1998/covid-19/blob/main/GAN.ipynb\" target=\"_parent\"><img src=\"https://colab.research.google.com/assets/colab-badge.svg\" alt=\"Open In Colab\"/></a>"
      ]
    },
    {
      "cell_type": "code",
      "metadata": {
        "id": "-jzrTQj_ervu"
      },
      "source": [
        "from os import listdir\n",
        "from numpy import asarray\n",
        "from numpy import vstack\n",
        "from tensorflow import keras\n",
        "from numpy import savez_compressed\n",
        "from tensorflow.keras.preprocessing.image import load_img\n",
        "from tensorflow.keras.preprocessing.image import img_to_array\n",
        "import numpy as np\n",
        "import operator"
      ],
      "execution_count": 105,
      "outputs": []
    },
    {
      "cell_type": "markdown",
      "metadata": {
        "id": "_SU7VUGXndvc"
      },
      "source": [
        "### 1. Load Images"
      ]
    },
    {
      "cell_type": "code",
      "metadata": {
        "id": "qH_qi6WWfGk8"
      },
      "source": [
        "# load all images in a directory into memory\n",
        "def load_images(path1, path2, size=(128,128)):\n",
        "    src_list, tar_list = list(), list()\n",
        "    \n",
        "    # enumerate filenames in directory, assume all are images\n",
        "    for filename in listdir(path1):\n",
        "    # load and resize the image\n",
        "        pixels = load_img(path1 + filename, target_size=size)\n",
        "        # convert to numpy array\n",
        "        dmsp_img = img_to_array(pixels)\n",
        "        src_list.append(dmsp_img)\n",
        "\n",
        "    for filename in listdir(path2):\n",
        "        pixels = load_img(path2 + filename, target_size=size)\n",
        "        viirs_img = img_to_array(pixels)\n",
        "        tar_list.append(dmsp_img)\n",
        "    \n",
        "    return [asarray(src_list), asarray(tar_list)]"
      ],
      "execution_count": 106,
      "outputs": []
    },
    {
      "cell_type": "code",
      "metadata": {
        "id": "eko27czrfJDA"
      },
      "source": [
        "# Load satellites monthly data\n",
        "path_dmsp ='/content/drive/MyDrive/Sem3/GAN Input/dmsp/'\n",
        "path_viirs ='/content/drive/MyDrive/Sem3/GAN Input/viirs/'\n",
        "[dmsp, viirs] = load_images(path_dmsp, path_viirs)"
      ],
      "execution_count": 107,
      "outputs": []
    },
    {
      "cell_type": "code",
      "metadata": {
        "colab": {
          "base_uri": "https://localhost:8080/"
        },
        "id": "bPlY1HrvRZLO",
        "outputId": "d9cb9711-c407-436d-c1aa-1a3953f6ea51"
      },
      "source": [
        "# save as compressed numpy array\n",
        "filename = 'ntl_128.npz'\n",
        "savez_compressed(filename, dmsp, viirs)\n",
        "print('Saved dataset: ', filename)"
      ],
      "execution_count": 108,
      "outputs": [
        {
          "output_type": "stream",
          "name": "stdout",
          "text": [
            "Saved dataset:  ntl_128.npz\n"
          ]
        }
      ]
    },
    {
      "cell_type": "code",
      "metadata": {
        "id": "BjxXChrkP_w8",
        "colab": {
          "base_uri": "https://localhost:8080/"
        },
        "outputId": "a1180109-5a0c-4c0b-9472-5ffa1215b4c3"
      },
      "source": [
        "print (dmsp.shape, viirs.shape)"
      ],
      "execution_count": 109,
      "outputs": [
        {
          "output_type": "stream",
          "name": "stdout",
          "text": [
            "(8, 128, 128, 3) (8, 128, 128, 3)\n"
          ]
        }
      ]
    },
    {
      "cell_type": "markdown",
      "metadata": {
        "id": "bUr0KctFngQU"
      },
      "source": [
        "### 2. Plot random images"
      ]
    },
    {
      "cell_type": "code",
      "metadata": {
        "colab": {
          "base_uri": "https://localhost:8080/",
          "height": 129
        },
        "id": "e2N_z1p1QDwu",
        "outputId": "611c0d9c-1ff0-4eeb-9e17-2a0a987c046f"
      },
      "source": [
        "from matplotlib import pyplot\n",
        "# plot source images\n",
        "n_samples = 3\n",
        "for i in range(n_samples):\n",
        "\tpyplot.subplot(2, n_samples, 1 + i)\n",
        "\tpyplot.axis('off')\n",
        "\tpyplot.imshow(dmsp[i].astype('uint8'))"
      ],
      "execution_count": 110,
      "outputs": [
        {
          "output_type": "display_data",
          "data": {
            "image/png": "[encoded data removed]",
            "text/plain": [
              "<Figure size 432x288 with 3 Axes>"
            ]
          },
          "metadata": {
            "needs_background": "light"
          }
        }
      ]
    },
    {
      "cell_type": "code",
      "metadata": {
        "colab": {
          "base_uri": "https://localhost:8080/",
          "height": 129
        },
        "id": "d0ZKZ1BQm6Eu",
        "outputId": "378e7213-c036-4ee9-98a1-999b46106726"
      },
      "source": [
        "from matplotlib import pyplot\n",
        "# plot source images\n",
        "n_samples = 3\n",
        "for i in range(n_samples):\n",
        "\tpyplot.subplot(2, n_samples, 1 + i)\n",
        "\tpyplot.axis('off')\n",
        "\tpyplot.imshow(viirs[i].astype('uint8'))"
      ],
      "execution_count": 111,
      "outputs": [
        {
          "output_type": "display_data",
          "data": {
            "image/png": "[encoded data removed]",
            "text/plain": [
              "<Figure size 432x288 with 3 Axes>"
            ]
          },
          "metadata": {
            "needs_background": "light"
          }
        }
      ]
    },
    {
      "cell_type": "code",
      "metadata": {
        "id": "oGxcmW0Jv8SY"
      },
      "source": [
        "from numpy import load\n",
        "from numpy import zeros\n",
        "from numpy import ones\n",
        "from numpy.random import randint\n",
        "from tensorflow.keras.optimizers import Adam\n",
        "from keras.initializers import RandomNormal\n",
        "from keras.models import Model\n",
        "from keras.models import Input\n",
        "from keras.layers import Conv2D\n",
        "from keras.layers import Conv2DTranspose\n",
        "from keras.layers import LeakyReLU\n",
        "from keras.layers import Activation\n",
        "from keras.layers import Concatenate\n",
        "from keras.layers import Dropout\n",
        "from keras.layers import BatchNormalization\n",
        "from keras.layers import LeakyReLU\n",
        "from matplotlib import pyplot"
      ],
      "execution_count": 112,
      "outputs": []
    },
    {
      "cell_type": "markdown",
      "metadata": {
        "id": "83zLEThHzjn7"
      },
      "source": [
        "### 3. Discrimator"
      ]
    },
    {
      "cell_type": "code",
      "metadata": {
        "id": "73mZKK4CnvmI"
      },
      "source": [
        "# define the discriminator model\n",
        "def define_discriminator(image_shape):\n",
        "\t# weight initialization\n",
        "\tinit = RandomNormal(stddev=0.02)\n",
        "\t# source image input\n",
        "\tin_src_image = Input(shape=image_shape)\n",
        "\t# target image input\n",
        "\tin_target_image = Input(shape=image_shape)\n",
        "\t# concatenate images channel-wise\n",
        "\tmerged = Concatenate()([in_src_image, in_target_image])\n",
        "\t# C64\n",
        "\td = Conv2D(64, (4,4), strides=(2,2), padding='same', kernel_initializer=init)(merged)\n",
        "\td = LeakyReLU(alpha=0.2)(d)\n",
        "\t# C128\n",
        "\td = Conv2D(128, (4,4), strides=(2,2), padding='same', kernel_initializer=init)(d)\n",
        "\td = BatchNormalization()(d)\n",
        "\td = LeakyReLU(alpha=0.2)(d)\n",
        "\t# C256\n",
        "\td = Conv2D(256, (4,4), strides=(2,2), padding='same', kernel_initializer=init)(d)\n",
        "\td = BatchNormalization()(d)\n",
        "\td = LeakyReLU(alpha=0.2)(d)\n",
        "\t# C512\n",
        "\td = Conv2D(256, (4,4), strides=(2,2), padding='same', kernel_initializer=init)(d)\n",
        "\td = BatchNormalization()(d)\n",
        "\td = LeakyReLU(alpha=0.2)(d)\n",
        "\t# second last output layer\n",
        "\td = Conv2D(256, (4,4), padding='same', kernel_initializer=init)(d)\n",
        "\td = BatchNormalization()(d)\n",
        "\td = LeakyReLU(alpha=0.2)(d)\n",
        "\t# patch output\n",
        "\td = Conv2D(1, (4,4), padding='same', kernel_initializer=init)(d)\n",
        "\tpatch_out = Activation('sigmoid')(d)\n",
        "\t# define model\n",
        "\tmodel = Model([in_src_image, in_target_image], patch_out)\n",
        "\t# compile model\n",
        "\topt = Adam(lr=0.0002, beta_1=0.5)\n",
        "\tmodel.compile(loss='binary_crossentropy', optimizer=opt, loss_weights=[0.5])\n",
        "\treturn model"
      ],
      "execution_count": 113,
      "outputs": []
    },
    {
      "cell_type": "markdown",
      "metadata": {
        "id": "ykZRYob7zrxo"
      },
      "source": [
        "### 4. Generator"
      ]
    },
    {
      "cell_type": "code",
      "metadata": {
        "id": "w-ZXQJ74zhPw"
      },
      "source": [
        "# define an encoder block\n",
        "def define_encoder_block(layer_in, n_filters, batchnorm=True):\n",
        "\t# weight initialization\n",
        "\tinit = RandomNormal(stddev=0.02)\n",
        "\t# add downsampling layer\n",
        "\tg = Conv2D(n_filters, (4,4), strides=(2,2), padding='same', kernel_initializer=init)(layer_in)\n",
        "\t# conditionally add batch normalization\n",
        "\tif batchnorm:\n",
        "\t\tg = BatchNormalization()(g, training=True)\n",
        "\t# leaky relu activation\n",
        "\tg = LeakyReLU(alpha=0.2)(g)\n",
        "\treturn g\n",
        "\n",
        "# define a decoder block\n",
        "def decoder_block(layer_in, skip_in, n_filters, dropout=True):\n",
        "\t# weight initialization\n",
        "\tinit = RandomNormal(stddev=0.02)\n",
        "\t# add upsampling layer\n",
        "\tg = Conv2DTranspose(n_filters, (4,4), strides=(2,2), padding='same', kernel_initializer=init)(layer_in)\n",
        "\t# add batch normalization\n",
        "\tg = BatchNormalization()(g, training=True)\n",
        "\t# conditionally add dropout\n",
        "\tif dropout:\n",
        "\t\tg = Dropout(0.5)(g, training=True)\n",
        "\t# merge with skip connection\n",
        "\tg = Concatenate()([g, skip_in])\n",
        "\t# relu activation\n",
        "\tg = Activation('relu')(g)\n",
        "\treturn g\n",
        "\n",
        "# define the standalone generator model\n",
        "def define_generator(image_shape=(256,256,3)):\n",
        "\t# weight initialization\n",
        "\tinit = RandomNormal(stddev=0.02)\n",
        "\t# image input\n",
        "\tin_image = Input(shape=image_shape)\n",
        "\t# encoder model\n",
        "\te1 = define_encoder_block(in_image, 64, batchnorm=False)\n",
        "\te2 = define_encoder_block(e1, 128)\n",
        "\te3 = define_encoder_block(e2, 256)\n",
        "\te4 = define_encoder_block(e3, 256)\n",
        "\te5 = define_encoder_block(e4, 256)\n",
        "\te6 = define_encoder_block(e5, 256)\n",
        "\t# bottleneck, no batch norm and relu\n",
        "\tb = Conv2D(256, (4,4), strides=(2,2), padding='same', kernel_initializer=init)(e6)\n",
        "\tb = Activation('relu')(b)\n",
        "\t# decoder model\n",
        "\td1 = decoder_block(b, e6, 256)\n",
        "\td2 = decoder_block(d1, e5, 256)\n",
        "\td3 = decoder_block(d2, e4, 256)\n",
        "\td4 = decoder_block(d3, e3, 256, dropout=False)\n",
        "\td5 = decoder_block(d4, e2, 128, dropout=False)\n",
        "\td6 = decoder_block(d5, e1, 64, dropout=False)\n",
        "\t# output\n",
        "\tg = Conv2DTranspose(3, (4,4), strides=(2,2), padding='same', kernel_initializer=init)(d6)\n",
        "\tout_image = Activation('tanh')(g)\n",
        "\t# define model\n",
        "\tmodel = Model(in_image, out_image)\n",
        "\treturn model"
      ],
      "execution_count": 114,
      "outputs": []
    },
    {
      "cell_type": "markdown",
      "metadata": {
        "id": "LxRL2cWkfB_7"
      },
      "source": [
        "### 5. Combine generator and Discriminator "
      ]
    },
    {
      "cell_type": "code",
      "metadata": {
        "id": "Ek0OrT29GXBI"
      },
      "source": [
        "# define the combined generator and discriminator model, for updating the generator\n",
        "def define_gan(g_model, d_model, image_shape):\n",
        "\t# make weights in the discriminator not trainable\n",
        "\tfor layer in d_model.layers:\n",
        "\t\tif not isinstance(layer, BatchNormalization):\n",
        "\t\t\tlayer.trainable = False\n",
        "\t# define the source image\n",
        "\tin_src = Input(shape=image_shape)\n",
        "\t# connect the source image to the generator input\n",
        "\tgen_out = g_model(in_src)\n",
        "\t# connect the source input and generator output to the discriminator input\n",
        "\tdis_out = d_model([in_src, gen_out])\n",
        "\t# src image as input, generated image and classification output\n",
        "\tmodel = Model(in_src, [dis_out, gen_out])\n",
        "\t# compile model\n",
        "\topt = Adam(lr=0.0002, beta_1=0.5)\n",
        "\tmodel.compile(loss=['binary_crossentropy', 'mae'], optimizer=opt, loss_weights=[1,100])\n",
        "\treturn model"
      ],
      "execution_count": 115,
      "outputs": []
    },
    {
      "cell_type": "code",
      "metadata": {
        "id": "duYv92haVWy6"
      },
      "source": [
        "# load and prepare training images\n",
        "def load_real_samples(filename):\n",
        "\t# load compressed arrays\n",
        "\tdata = load(filename)\n",
        "\t# unpack arrays\n",
        "\tX1, X2 = data['arr_0'], data['arr_1']\n",
        "\t# scale from [0,255] to [-1,1]\n",
        "\tX1 = (X1 - 127.5) / 127.5\n",
        "\tX2 = (X2 - 127.5) / 127.5\n",
        "\treturn [X1, X2]"
      ],
      "execution_count": 116,
      "outputs": []
    },
    {
      "cell_type": "markdown",
      "metadata": {
        "id": "hsnma4Uxjo17"
      },
      "source": [
        "### 7. Pick random training samples and label them as real-> Label as 1"
      ]
    },
    {
      "cell_type": "code",
      "metadata": {
        "id": "jjZPBgyojoND"
      },
      "source": [
        "# select a batch of random samples, returns images and target\n",
        "def generate_real_samples(dataset, n_samples, patch_shape):\n",
        "\t# unpack dataset\n",
        "\ttrainA, trainB = dataset\n",
        "\t# choose random instances\n",
        "\tix = randint(0, trainA.shape[0], n_samples)\n",
        "\t# retrieve selected images\n",
        "\tX1, X2 = trainA[ix], trainB[ix]\n",
        "\t# generate 'real' class labels (1)\n",
        "\ty = ones((n_samples, patch_shape, patch_shape, 1))\n",
        "\treturn [X1, X2], y"
      ],
      "execution_count": 117,
      "outputs": []
    },
    {
      "cell_type": "markdown",
      "metadata": {
        "id": "dpoZ_2hUj0PL"
      },
      "source": [
        "### 7. Use generator modela and real images to generate target images-> Label as 0"
      ]
    },
    {
      "cell_type": "code",
      "metadata": {
        "id": "ctLZ6rAlj3RT"
      },
      "source": [
        "# generate a batch of images, returns images and targets\n",
        "def generate_fake_samples(g_model, samples, patch_shape):\n",
        "\t# generate fake instance\n",
        "\tX = g_model.predict(samples)\n",
        "\t# create 'fake' class labels (0)\n",
        "\ty = zeros((len(X), patch_shape, patch_shape, 1))\n",
        "\treturn X, y"
      ],
      "execution_count": 118,
      "outputs": []
    },
    {
      "cell_type": "markdown",
      "metadata": {
        "id": "WpP4bhe2j22C"
      },
      "source": [
        "### 8. Plot the results of training "
      ]
    },
    {
      "cell_type": "code",
      "metadata": {
        "id": "rvRiZYP1kkXh"
      },
      "source": [
        "# generate samples and save as a plot and save the model\n",
        "def summarize_performance(step, g_model, dataset, n_samples=3):\n",
        "\t# select a sample of input images\n",
        "\t[X_realA, X_realB], _ = generate_real_samples(dataset, n_samples, 1)\n",
        "\t# generate a batch of fake samples\n",
        "\tX_fakeB, _ = generate_fake_samples(g_model, X_realA, 1)\n",
        "\t# scale all pixels from [-1,1] to [0,1]\n",
        "\tX_realA = (X_realA + 1) / 2.0\n",
        "\tX_realB = (X_realB + 1) / 2.0\n",
        "\tX_fakeB = (X_fakeB + 1) / 2.0\n",
        "\t# plot real source images\n",
        "\tfor i in range(n_samples):\n",
        "\t\tpyplot.subplot(3, n_samples, 1 + i)\n",
        "\t\tpyplot.axis('off')\n",
        "\t\tpyplot.imshow(X_realA[i])\n",
        "\t# plot generated target image\n",
        "\tfor i in range(n_samples):\n",
        "\t\tpyplot.subplot(3, n_samples, 1 + n_samples + i)\n",
        "\t\tpyplot.axis('off')\n",
        "\t\tpyplot.imshow(X_fakeB[i])\n",
        "\t# plot real target image\n",
        "\tfor i in range(n_samples):\n",
        "\t\tpyplot.subplot(3, n_samples, 1 + n_samples*2 + i)\n",
        "\t\tpyplot.axis('off')\n",
        "\t\tpyplot.imshow(X_realB[i])\n",
        "\t# save plot to file\n",
        "\tfilename1 = 'plot_%06d.png' % (step+1)\n",
        "\tpyplot.savefig(filename1)\n",
        "\tpyplot.close()\n",
        "\t# save the generator model\n",
        "\tfilename2 = 'model_%06d.h5' % (step+1)\n",
        "\tg_model.save(filename2)\n",
        "\tprint('&gt;Saved: %s and %s' % (filename1, filename2))"
      ],
      "execution_count": 119,
      "outputs": []
    },
    {
      "cell_type": "markdown",
      "metadata": {
        "id": "n5ifeI3VlCwb"
      },
      "source": [
        "### 9. Model training"
      ]
    },
    {
      "cell_type": "code",
      "metadata": {
        "id": "mrbqKSESlDG7"
      },
      "source": [
        "# train pix2pix model\n",
        "def train(d_model, g_model, gan_model, dataset, n_epochs=100, n_batch=1):\n",
        "\t# determine the output square shape of the discriminator\n",
        "\tn_patch = d_model.output_shape[1]\n",
        "\t# unpack dataset\n",
        "\ttrainA, trainB = dataset\n",
        "\t# calculate the number of batches per training epoch\n",
        "\tbat_per_epo = int(len(trainA) / n_batch)\n",
        "\t# calculate the number of training iterations\n",
        "\tn_steps = bat_per_epo * n_epochs\n",
        "\t# manually enumerate epochs\n",
        "\tfor i in range(n_steps):\n",
        "\t\t# select a batch of real samples\n",
        "\t\t[X_realA, X_realB], y_real = generate_real_samples(dataset, n_batch, n_patch)\n",
        "\t\t# generate a batch of fake samples\n",
        "\t\tX_fakeB, y_fake = generate_fake_samples(g_model, X_realA, n_patch)\n",
        "\t\t# update discriminator for real samples\n",
        "\t\td_loss1 = d_model.train_on_batch([X_realA, X_realB], y_real)\n",
        "\t\t# update discriminator for generated samples\n",
        "\t\td_loss2 = d_model.train_on_batch([X_realA, X_fakeB], y_fake)\n",
        "\t\t# update the generator\n",
        "\t\tg_loss, _, _ = gan_model.train_on_batch(X_realA, [y_real, X_realB])\n",
        "\t\t# summarize performance\n",
        "\t\tprint('&gt;%d, d1[%.3f] d2[%.3f] g[%.3f]' % (i+1, d_loss1, d_loss2, g_loss))\n",
        "\t\t# summarize model performance\n",
        "\t\tif (i+1) % (bat_per_epo * 10) == 0:\n",
        "\t\t\tsummarize_performance(i, g_model, dataset)"
      ],
      "execution_count": 120,
      "outputs": []
    },
    {
      "cell_type": "markdown",
      "metadata": {
        "id": "UTdt2MB-oZ1L"
      },
      "source": [
        "### Run model"
      ]
    },
    {
      "cell_type": "code",
      "metadata": {
        "id": "oZCyJ8Eomx_L",
        "colab": {
          "base_uri": "https://localhost:8080/"
        },
        "outputId": "26e64dde-48f9-45ff-fa98-9c7db81eb9f0"
      },
      "source": [
        "# load image data\n",
        "dataset = load_real_samples('ntl_128.npz')\n",
        "print('Loaded', dataset[0].shape, dataset[1].shape)\n",
        "# define input shape based on the loaded dataset\n",
        "image_shape = dataset[0].shape[1:]\n",
        "print(image_shape)\n",
        "# define the models\n",
        "d_model = define_discriminator(image_shape)\n",
        "g_model = define_generator(image_shape)\n",
        "# define the composite model\n",
        "gan_model = define_gan(g_model, d_model, image_shape)\n",
        "# train model\n",
        "train(d_model, g_model, gan_model, dataset)"
      ],
      "execution_count": null,
      "outputs": [
        {
          "output_type": "stream",
          "name": "stdout",
          "text": [
            "Loaded (8, 128, 128, 3) (8, 128, 128, 3)\n",
            "(128, 128, 3)\n"
          ]
        },
        {
          "output_type": "stream",
          "name": "stderr",
          "text": [
            "/usr/local/lib/python3.7/dist-packages/keras/optimizer_v2/optimizer_v2.py:356: UserWarning: The `lr` argument is deprecated, use `learning_rate` instead.\n",
            "  \"The `lr` argument is deprecated, use `learning_rate` instead.\")\n"
          ]
        },
        {
          "output_type": "stream",
          "name": "stdout",
          "text": [
            "&gt;1, d1[0.324] d2[0.692] g[92.427]\n",
            "&gt;2, d1[0.227] d2[0.480] g[89.522]\n",
            "&gt;3, d1[0.211] d2[0.360] g[86.693]\n",
            "&gt;4, d1[0.164] d2[0.294] g[84.006]\n",
            "&gt;5, d1[0.136] d2[0.217] g[81.236]\n",
            "&gt;6, d1[0.108] d2[0.150] g[78.395]\n",
            "&gt;7, d1[0.103] d2[0.122] g[75.640]\n",
            "&gt;8, d1[0.082] d2[0.103] g[72.812]\n",
            "&gt;9, d1[0.059] d2[0.083] g[69.997]\n",
            "&gt;10, d1[0.053] d2[0.063] g[67.040]\n",
            "&gt;11, d1[0.043] d2[0.049] g[64.058]\n",
            "&gt;12, d1[0.042] d2[0.048] g[61.259]\n",
            "&gt;13, d1[0.037] d2[0.040] g[58.265]\n",
            "&gt;14, d1[0.033] d2[0.035] g[55.233]\n",
            "&gt;15, d1[0.031] d2[0.032] g[52.018]\n",
            "&gt;16, d1[0.028] d2[0.031] g[49.325]\n",
            "&gt;17, d1[0.026] d2[0.026] g[46.514]\n",
            "&gt;18, d1[0.025] d2[0.023] g[43.313]\n",
            "&gt;19, d1[0.022] d2[0.023] g[40.760]\n",
            "&gt;20, d1[0.024] d2[0.023] g[38.116]\n",
            "&gt;21, d1[0.020] d2[0.019] g[35.504]\n",
            "&gt;22, d1[0.020] d2[0.020] g[33.281]\n",
            "&gt;23, d1[0.030] d2[0.252] g[31.320]\n",
            "&gt;24, d1[1.988] d2[0.080] g[27.657]\n",
            "&gt;25, d1[1.272] d2[0.149] g[24.696]\n",
            "&gt;26, d1[0.650] d2[0.336] g[21.924]\n",
            "&gt;27, d1[0.414] d2[0.404] g[20.374]\n",
            "&gt;28, d1[0.353] d2[0.405] g[18.536]\n",
            "&gt;29, d1[0.368] d2[0.375] g[17.524]\n",
            "&gt;30, d1[0.377] d2[0.363] g[16.360]\n",
            "&gt;31, d1[0.366] d2[0.364] g[15.001]\n",
            "&gt;32, d1[0.357] d2[0.358] g[13.869]\n",
            "&gt;33, d1[0.356] d2[0.362] g[12.842]\n",
            "&gt;34, d1[0.367] d2[0.351] g[12.073]\n",
            "&gt;35, d1[0.336] d2[0.343] g[11.168]\n",
            "&gt;36, d1[0.369] d2[0.375] g[10.659]\n",
            "&gt;37, d1[0.341] d2[0.308] g[10.102]\n",
            "&gt;38, d1[0.309] d2[0.325] g[9.559]\n",
            "&gt;39, d1[0.348] d2[0.392] g[9.160]\n",
            "&gt;40, d1[0.495] d2[0.288] g[8.754]\n",
            "&gt;41, d1[0.332] d2[0.319] g[7.970]\n",
            "&gt;42, d1[0.245] d2[0.308] g[7.732]\n",
            "&gt;43, d1[0.439] d2[0.386] g[7.809]\n",
            "&gt;44, d1[0.288] d2[0.266] g[7.247]\n",
            "&gt;45, d1[0.230] d2[0.281] g[6.860]\n",
            "&gt;46, d1[0.412] d2[0.323] g[6.412]\n",
            "&gt;47, d1[0.159] d2[0.208] g[6.376]\n",
            "&gt;48, d1[0.132] d2[0.139] g[6.477]\n",
            "&gt;49, d1[0.283] d2[0.725] g[6.272]\n",
            "&gt;50, d1[0.565] d2[0.268] g[5.712]\n",
            "&gt;51, d1[0.469] d2[0.304] g[5.284]\n",
            "&gt;52, d1[0.339] d2[0.344] g[4.935]\n",
            "&gt;53, d1[0.357] d2[0.334] g[4.920]\n",
            "&gt;54, d1[0.286] d2[0.294] g[5.039]\n",
            "&gt;55, d1[0.349] d2[0.349] g[4.633]\n",
            "&gt;56, d1[0.294] d2[0.329] g[4.625]\n",
            "&gt;57, d1[0.394] d2[0.320] g[4.764]\n",
            "&gt;58, d1[0.261] d2[0.284] g[4.696]\n",
            "&gt;59, d1[0.382] d2[0.333] g[4.715]\n",
            "&gt;60, d1[0.316] d2[0.330] g[4.309]\n",
            "&gt;61, d1[0.240] d2[0.297] g[4.510]\n",
            "&gt;62, d1[0.215] d2[0.265] g[4.473]\n",
            "&gt;63, d1[0.188] d2[0.200] g[4.612]\n",
            "&gt;64, d1[0.407] d2[0.649] g[4.299]\n",
            "&gt;65, d1[0.395] d2[0.320] g[4.509]\n",
            "&gt;66, d1[0.330] d2[0.328] g[4.141]\n",
            "&gt;67, d1[0.298] d2[0.257] g[3.924]\n",
            "&gt;68, d1[0.208] d2[0.196] g[4.421]\n",
            "&gt;69, d1[0.171] d2[0.233] g[4.404]\n",
            "&gt;70, d1[0.435] d2[0.392] g[4.016]\n",
            "&gt;71, d1[0.340] d2[0.320] g[4.042]\n",
            "&gt;72, d1[0.266] d2[0.245] g[3.960]\n",
            "&gt;73, d1[0.249] d2[0.226] g[4.241]\n",
            "&gt;74, d1[0.163] d2[0.140] g[4.344]\n",
            "&gt;75, d1[0.147] d2[0.182] g[4.197]\n",
            "&gt;76, d1[0.137] d2[0.110] g[4.154]\n",
            "&gt;77, d1[0.167] d2[0.248] g[4.628]\n",
            "&gt;78, d1[0.206] d2[0.109] g[4.081]\n",
            "&gt;79, d1[0.091] d2[0.119] g[4.287]\n",
            "&gt;80, d1[0.114] d2[0.108] g[4.479]\n",
            "WARNING:tensorflow:Compiled the loaded model, but the compiled metrics have yet to be built. `model.compile_metrics` will be empty until you train or evaluate the model.\n",
            "&gt;Saved: plot_000080.png and model_000080.h5\n",
            "&gt;81, d1[0.078] d2[0.136] g[4.832]\n",
            "&gt;82, d1[0.180] d2[0.149] g[4.532]\n",
            "&gt;83, d1[0.187] d2[0.128] g[4.822]\n",
            "&gt;84, d1[0.123] d2[0.233] g[4.722]\n",
            "&gt;85, d1[0.266] d2[0.141] g[4.462]\n",
            "&gt;86, d1[0.071] d2[0.097] g[4.773]\n",
            "&gt;87, d1[0.071] d2[0.083] g[4.596]\n",
            "&gt;88, d1[0.061] d2[0.079] g[4.637]\n",
            "&gt;89, d1[0.122] d2[0.203] g[5.661]\n",
            "&gt;90, d1[0.243] d2[0.114] g[4.827]\n",
            "&gt;91, d1[0.122] d2[0.114] g[4.462]\n",
            "&gt;92, d1[0.064] d2[0.072] g[4.589]\n",
            "&gt;93, d1[0.059] d2[0.069] g[4.647]\n",
            "&gt;94, d1[0.091] d2[0.099] g[4.991]\n",
            "&gt;95, d1[0.146] d2[0.256] g[5.142]\n",
            "&gt;96, d1[0.264] d2[0.129] g[4.558]\n",
            "&gt;97, d1[0.113] d2[0.088] g[4.774]\n",
            "&gt;98, d1[0.068] d2[0.057] g[4.646]\n",
            "&gt;99, d1[0.047] d2[0.061] g[4.679]\n",
            "&gt;100, d1[0.051] d2[0.048] g[4.749]\n",
            "&gt;101, d1[0.046] d2[0.107] g[5.187]\n",
            "&gt;102, d1[0.278] d2[0.609] g[4.848]\n",
            "&gt;103, d1[0.418] d2[0.137] g[4.108]\n",
            "&gt;104, d1[0.256] d2[0.408] g[4.870]\n",
            "&gt;105, d1[0.165] d2[0.087] g[4.256]\n",
            "&gt;106, d1[0.122] d2[0.087] g[4.513]\n",
            "&gt;107, d1[0.077] d2[0.099] g[4.984]\n",
            "&gt;108, d1[0.071] d2[0.052] g[4.683]\n",
            "&gt;109, d1[0.064] d2[0.060] g[4.944]\n",
            "&gt;110, d1[0.054] d2[0.058] g[4.691]\n",
            "&gt;111, d1[0.048] d2[0.070] g[4.736]\n",
            "&gt;112, d1[0.063] d2[0.104] g[4.984]\n",
            "&gt;113, d1[0.123] d2[0.143] g[5.353]\n",
            "&gt;114, d1[0.212] d2[0.174] g[4.673]\n",
            "&gt;115, d1[0.057] d2[0.086] g[4.912]\n",
            "&gt;116, d1[0.108] d2[0.078] g[5.075]\n",
            "&gt;117, d1[0.066] d2[0.097] g[5.062]\n",
            "&gt;118, d1[0.104] d2[0.295] g[5.567]\n",
            "&gt;119, d1[0.458] d2[0.204] g[4.651]\n",
            "&gt;120, d1[0.278] d2[0.190] g[4.260]\n",
            "&gt;121, d1[0.131] d2[0.372] g[5.904]\n",
            "&gt;122, d1[0.504] d2[0.225] g[4.776]\n",
            "&gt;123, d1[0.080] d2[0.210] g[5.105]\n",
            "&gt;124, d1[0.197] d2[0.164] g[4.764]\n",
            "&gt;125, d1[0.135] d2[0.155] g[4.655]\n",
            "&gt;126, d1[0.133] d2[0.081] g[5.164]\n",
            "&gt;127, d1[0.049] d2[0.156] g[4.937]\n",
            "&gt;128, d1[0.174] d2[0.123] g[4.915]\n",
            "&gt;129, d1[0.112] d2[0.180] g[5.100]\n",
            "&gt;130, d1[0.563] d2[0.983] g[4.066]\n",
            "&gt;131, d1[0.497] d2[0.503] g[3.489]\n",
            "&gt;132, d1[0.393] d2[0.327] g[3.617]\n"
          ]
        }
      ]
    },
    {
      "cell_type": "code",
      "metadata": {
        "id": "csH9fU5BVHFQ"
      },
      "source": [
        ""
      ],
      "execution_count": null,
      "outputs": []
    }
  ]
}